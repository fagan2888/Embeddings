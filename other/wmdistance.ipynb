{
 "cells": [
  {
   "cell_type": "code",
   "execution_count": 1,
   "metadata": {},
   "outputs": [],
   "source": [
    "from time import time\n",
    "start_nb = time()"
   ]
  },
  {
   "cell_type": "code",
   "execution_count": 2,
   "metadata": {},
   "outputs": [
    {
     "name": "stdout",
     "output_type": "stream",
     "text": [
      "Cell took 1.21 seconds to run.\n"
     ]
    }
   ],
   "source": [
    "# Initialize logging.\n",
    "import logging\n",
    "logging.basicConfig(format='%(asctime)s : %(levelname)s : %(message)s')\n",
    "\n",
    "start = time()\n",
    "import os\n",
    "\n",
    "import gensim\n",
    "model = gensim.models.Word2Vec.load('/Users/ide/Dropbox/inProgress/Livny-project/experiment/word2vec.model')\n",
    "# Normalizing word2vec vectors.\n",
    "\n",
    "print('Cell took %.2f seconds to run.' % (time() - start))"
   ]
  },
  {
   "cell_type": "code",
   "execution_count": 3,
   "metadata": {},
   "outputs": [
    {
     "name": "stdout",
     "output_type": "stream",
     "text": [
      "distance = 0.0058\n",
      "Cell took 0.31 seconds to run.\n"
     ]
    }
   ],
   "source": [
    "start = time()\n",
    "\n",
    "model.init_sims(replace=True)  # Normalizes the vectors in the word2vec class.\n",
    "\n",
    "distance = model.wv.wmdistance('/Users/ide/Dropbox/inProgress/Livny-project/experiment/kevin/data/processed/557a1bc3e138233a711e17cb.txt.out',\n",
    "                               '/Users/ide/Dropbox/inProgress/Livny-project/experiment/kevin/data/processed/557a20bbe138233a711e17eb.txt.out')  # Compute WMD as normal.\n",
    "\n",
    "print ('distance = %.4f' % distance)\n",
    "\n",
    "print ('Cell took %.2f seconds to run.' %(time() - start))"
   ]
  },
  {
   "cell_type": "code",
   "execution_count": 7,
   "metadata": {},
   "outputs": [
    {
     "name": "stdout",
     "output_type": "stream",
     "text": [
      "tin: 0.7251\n",
      "antimony: 1.7641\n",
      "archean: 0.8009\n"
     ]
    }
   ],
   "source": [
    "result = model.wv.most_similar(positive=['gold', 'copper'], negative=['ice'])\n",
    "print(\"{}: {:.4f}\".format(*result[0]))\n",
    "\n",
    "result = model.wv.most_similar_cosmul(positive=['gold', 'copper'], negative=['ice'])\n",
    "print(\"{}: {:.4f}\".format(*result[0]))\n",
    "\n",
    "result = model.wv.similar_by_word(\"precambrian\")\n",
    "print(\"{}: {:.4f}\".format(*result[0]))"
   ]
  },
  {
   "cell_type": "code",
   "execution_count": null,
   "metadata": {},
   "outputs": [],
   "source": [
    "filepath1 = '/Users/ide/Dropbox/inProgress/Livny-project/experiment/lists/precambrian.txt'\n",
    "filepath2 = '/Users/ide/Dropbox/inProgress/Livny-project/experiment/lists/common_minerals.txt'\n",
    "\n",
    "with open(filepath1) as fp1:  \n",
    "   interval = fp1.readline().replace('\\n', '')\n",
    "   while interval:\n",
    "        if interval in model.wv.vocab:\n",
    "            with open(filepath2) as fp2:\n",
    "                mineral = fp2.readline().replace('\\n', '')\n",
    "                while mineral:\n",
    "                    if mineral in model.wv.vocab:\n",
    "                        print(interval,\"\\t\",mineral,\"\\t\",model.wv.similarity(interval,mineral))\n",
    "                    mineral = fp2.readline().replace('\\n', '')\n",
    "        interval = fp1.readline().replace('\\n', '')"
   ]
  },
  {
   "cell_type": "code",
   "execution_count": null,
   "metadata": {},
   "outputs": [],
   "source": [
    "filepath2 = '/Users/ide/Dropbox/inProgress/Livny-project/experiment/lists/common_intervals.txt'\n",
    "filepath1 = '/Users/ide/Dropbox/inProgress/Livny-project/experiment/lists/common_minerals.txt'\n",
    "\n",
    "with open(filepath1) as fp1:  \n",
    "   mineral = fp1.readline().replace('\\n', '')\n",
    "   while mineral:\n",
    "        if mineral in model.wv.vocab:\n",
    "            print(mineral,end = '\\t')\n",
    "            with open(filepath2) as fp2:\n",
    "                interval = fp2.readline().replace('\\n', '')\n",
    "                while interval:\n",
    "                    if interval in model.wv.vocab:\n",
    "                        print(model.wv.similarity(interval,mineral),end = '\\t')\n",
    "                    interval = fp2.readline().replace('\\n', '')\n",
    "                print('\\n')\n",
    "        mineral = fp1.readline().replace('\\n', '')"
   ]
  },
  {
   "cell_type": "code",
   "execution_count": 4,
   "metadata": {},
   "outputs": [
    {
     "name": "stdout",
     "output_type": "stream",
     "text": [
      "tin: 0.7251\n",
      "antimony: 1.7641\n",
      "zinc: 0.7089\n"
     ]
    }
   ],
   "source": [
    "from gensim.test.utils import get_tmpfile\n",
    "from gensim.models import KeyedVectors\n",
    "\n",
    "word_vectors = model.wv\n",
    "fname = \"vectors.kv\"\n",
    "word_vectors.save(fname)\n",
    "word_vectors = KeyedVectors.load(fname, mmap='r')\n",
    "\n",
    "result = word_vectors.most_similar(positive=['gold', 'copper'], negative=['ice'])\n",
    "print(\"{}: {:.4f}\".format(*result[0]))\n",
    "\n",
    "result = word_vectors.most_similar_cosmul(positive=['gold', 'copper'], negative=['ice'])\n",
    "print(\"{}: {:.4f}\".format(*result[0]))\n",
    "\n",
    "result = word_vectors.similar_by_word(\"copper\")\n",
    "print(\"{}: {:.4f}\".format(*result[0]))"
   ]
  },
  {
   "cell_type": "code",
   "execution_count": 5,
   "metadata": {},
   "outputs": [
    {
     "ename": "KeyboardInterrupt",
     "evalue": "",
     "output_type": "error",
     "traceback": [
      "\u001b[0;31m---------------------------------------------------------------------------\u001b[0m",
      "\u001b[0;31mKeyboardInterrupt\u001b[0m                         Traceback (most recent call last)",
      "\u001b[0;32m<ipython-input-5-7ce5fb0cda95>\u001b[0m in \u001b[0;36m<module>\u001b[0;34m()\u001b[0m\n\u001b[1;32m     12\u001b[0m         \u001b[0mtxt2\u001b[0m\u001b[0;34m.\u001b[0m\u001b[0mappend\u001b[0m\u001b[0;34m(\u001b[0m\u001b[0mw\u001b[0m\u001b[0;34m)\u001b[0m\u001b[0;34m\u001b[0m\u001b[0m\n\u001b[1;32m     13\u001b[0m \u001b[0;34m\u001b[0m\u001b[0m\n\u001b[0;32m---> 14\u001b[0;31m \u001b[0msimilarity\u001b[0m \u001b[0;34m=\u001b[0m \u001b[0mword_vectors\u001b[0m\u001b[0;34m.\u001b[0m\u001b[0mwmdistance\u001b[0m\u001b[0;34m(\u001b[0m\u001b[0mtxt1\u001b[0m\u001b[0;34m,\u001b[0m\u001b[0mtxt2\u001b[0m\u001b[0;34m)\u001b[0m\u001b[0;34m\u001b[0m\u001b[0m\n\u001b[0m\u001b[1;32m     15\u001b[0m \u001b[0mprint\u001b[0m\u001b[0;34m(\u001b[0m\u001b[0;34m\"{:.4f}\"\u001b[0m\u001b[0;34m.\u001b[0m\u001b[0mformat\u001b[0m\u001b[0;34m(\u001b[0m\u001b[0msimilarity\u001b[0m\u001b[0;34m)\u001b[0m\u001b[0;34m)\u001b[0m\u001b[0;34m\u001b[0m\u001b[0m\n",
      "\u001b[0;32m~/anaconda3/envs/python3/lib/python3.6/site-packages/gensim/models/keyedvectors.py\u001b[0m in \u001b[0;36mwmdistance\u001b[0;34m(self, document1, document2)\u001b[0m\n\u001b[1;32m    635\u001b[0m \u001b[0;34m\u001b[0m\u001b[0m\n\u001b[1;32m    636\u001b[0m         \u001b[0;31m# Compute WMD.\u001b[0m\u001b[0;34m\u001b[0m\u001b[0;34m\u001b[0m\u001b[0m\n\u001b[0;32m--> 637\u001b[0;31m         \u001b[0;32mreturn\u001b[0m \u001b[0memd\u001b[0m\u001b[0;34m(\u001b[0m\u001b[0md1\u001b[0m\u001b[0;34m,\u001b[0m \u001b[0md2\u001b[0m\u001b[0;34m,\u001b[0m \u001b[0mdistance_matrix\u001b[0m\u001b[0;34m)\u001b[0m\u001b[0;34m\u001b[0m\u001b[0m\n\u001b[0m\u001b[1;32m    638\u001b[0m \u001b[0;34m\u001b[0m\u001b[0m\n\u001b[1;32m    639\u001b[0m     \u001b[0;32mdef\u001b[0m \u001b[0mmost_similar_cosmul\u001b[0m\u001b[0;34m(\u001b[0m\u001b[0mself\u001b[0m\u001b[0;34m,\u001b[0m \u001b[0mpositive\u001b[0m\u001b[0;34m=\u001b[0m\u001b[0;32mNone\u001b[0m\u001b[0;34m,\u001b[0m \u001b[0mnegative\u001b[0m\u001b[0;34m=\u001b[0m\u001b[0;32mNone\u001b[0m\u001b[0;34m,\u001b[0m \u001b[0mtopn\u001b[0m\u001b[0;34m=\u001b[0m\u001b[0;36m10\u001b[0m\u001b[0;34m)\u001b[0m\u001b[0;34m:\u001b[0m\u001b[0;34m\u001b[0m\u001b[0m\n",
      "\u001b[0;31mKeyboardInterrupt\u001b[0m: "
     ]
    }
   ],
   "source": [
    "myDirPath = '/Users/ide/Dropbox/inProgress/Livny-project/experiment/kevin/data/processed/'\n",
    "\n",
    "txt1 = []\n",
    "for line in open(myDirPath + '557a1bc3e138233a711e17cb.txt.out', 'r',encoding='utf-8'):\n",
    "    for w in line.split():\n",
    "        txt1.append(w)\n",
    "#print(txt1)\n",
    "\n",
    "txt2 = []\n",
    "for line in open(myDirPath + '557a20bbe138233a711e17eb.txt.out', 'r',encoding='utf-8'):\n",
    "    for w in line.split():\n",
    "        txt2.append(w)\n",
    "\n",
    "similarity = word_vectors.wmdistance(txt1,txt2)\n",
    "print(\"{:.4f}\".format(similarity))"
   ]
  }
 ],
 "metadata": {
  "kernelspec": {
   "display_name": "Python 3",
   "language": "python",
   "name": "python3"
  },
  "language_info": {
   "codemirror_mode": {
    "name": "ipython",
    "version": 3
   },
   "file_extension": ".py",
   "mimetype": "text/x-python",
   "name": "python",
   "nbconvert_exporter": "python",
   "pygments_lexer": "ipython3",
   "version": "3.6.6"
  }
 },
 "nbformat": 4,
 "nbformat_minor": 2
}
