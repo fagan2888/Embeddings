{
 "cells": [
  {
   "cell_type": "code",
   "execution_count": 11,
   "metadata": {},
   "outputs": [
    {
     "name": "stdout",
     "output_type": "stream",
     "text": [
      "[nltk_data] Downloading package punkt to /Users/ide/nltk_data...\n",
      "[nltk_data]   Package punkt is already up-to-date!\n",
      "[nltk_data] Downloading package punkt to /Users/ide/nltk_data...\n",
      "[nltk_data]   Package punkt is already up-to-date!\n",
      "[nltk_data] Downloading package stopwords to /Users/ide/nltk_data...\n",
      "[nltk_data]   Package stopwords is already up-to-date!\n"
     ]
    }
   ],
   "source": [
    "import os\n",
    "from nltk import download\n",
    "from nltk import word_tokenize\n",
    "download('punkt')  # Download data for tokenizer.        \n",
    "\n",
    "\n",
    "myDirPath = '/Users/ide/Dropbox/inProgress/Livny-project/gdd_raw_text_interval_sample/'\n",
    "outDir = '/Users/ide/Dropbox/inProgress/Livny-project/experiment/tensorflow_vocabulary/'\n",
    "download('punkt')  # Download data for tokenizer.                                                                      \n",
    "\n",
    "from nltk.corpus import stopwords\n",
    "download('stopwords')  # Download stopwords list.                                                                      \n",
    "\n",
    "# Remove stopwords.                                                                                                    \n",
    "stop_words = stopwords.words('english')\n",
    "\n",
    "def preprocess(line):\n",
    "    line = word_tokenize(line)  # Split into words.                                                                    \n",
    "    line = [w.lower() for w in line]  # Lower the text.                                                               \n",
    "    line = [w for w in line if not w in stop_words]  # Remove stopwords.                                              \n",
    "    line = [w for w in line if w.isalpha()] # Remove numbers and punctuation.                                         \n",
    "    return line\n",
    "\n",
    "for fname in os.listdir(myDirPath):\n",
    "            if fname.endswith('txt'):\n",
    "                outname = fname + \".out\"\n",
    "                fout = open(os.path.join(outDir,outname),\"w\", encoding=\"utf8\")\n",
    "                for line in open(os.path.join(myDirPath, fname),encoding=\"utf-8\"):\n",
    "                    line = preprocess(line)\n",
    "                    if len(line) > 0:\n",
    "                        for w in line:\n",
    "                            if len(w)>2:\n",
    "                                fout.write(w.lower())\n",
    "                                fout.write('\\n')\n",
    "\n"
   ]
  }
 ],
 "metadata": {
  "kernelspec": {
   "display_name": "Python 3",
   "language": "python",
   "name": "python3"
  },
  "language_info": {
   "codemirror_mode": {
    "name": "ipython",
    "version": 3
   },
   "file_extension": ".py",
   "mimetype": "text/x-python",
   "name": "python",
   "nbconvert_exporter": "python",
   "pygments_lexer": "ipython3",
   "version": "3.6.6"
  }
 },
 "nbformat": 4,
 "nbformat_minor": 2
}
